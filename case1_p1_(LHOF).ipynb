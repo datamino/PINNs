{
  "nbformat": 4,
  "nbformat_minor": 0,
  "metadata": {
    "colab": {
      "provenance": [],
      "gpuType": "T4",
      "authorship_tag": "ABX9TyOEcQjVPkHPUfJuDkoDc5Vk",
      "include_colab_link": true
    },
    "kernelspec": {
      "name": "python3",
      "display_name": "Python 3"
    },
    "language_info": {
      "name": "python"
    },
    "accelerator": "GPU"
  },
  "cells": [
    {
      "cell_type": "markdown",
      "metadata": {
        "id": "view-in-github",
        "colab_type": "text"
      },
      "source": [
        "<a href=\"https://colab.research.google.com/github/datamino/PINNs/blob/main/case1_p1_(LHOF).ipynb\" target=\"_parent\"><img src=\"https://colab.research.google.com/assets/colab-badge.svg\" alt=\"Open In Colab\"/></a>"
      ]
    },
    {
      "cell_type": "code",
      "source": [
        "import torch\n",
        "import torch.nn as nn\n",
        "import torch.optim as optim\n",
        "import numpy as np\n",
        "import matplotlib.pyplot as plt"
      ],
      "metadata": {
        "id": "-aKDh8fLMJ5y"
      },
      "execution_count": 1,
      "outputs": []
    },
    {
      "cell_type": "code",
      "source": [],
      "metadata": {
        "id": "D13C2Z2EMk-0"
      },
      "execution_count": null,
      "outputs": []
    },
    {
      "cell_type": "code",
      "execution_count": null,
      "metadata": {
        "id": "Nu3KT2yDKpFy"
      },
      "outputs": [],
      "source": [
        "\n",
        "\n",
        "# Define the Neural Network\n",
        "class PINN(nn.Module):\n",
        "    def __init__(self):\n",
        "        super(PINN, self).__init__()\n",
        "        self.fc1 = nn.Linear(1, 20)  # Input layer (x -> hidden)\n",
        "        self.fc2 = nn.Linear(20, 20)  # Hidden layer\n",
        "        self.fc3 = nn.Linear(20, 1)   # Output layer (hidden -> y)\n",
        "        self.activation = torch.tanh  # Activation function\n",
        "\n",
        "    def forward(self, x):\n",
        "        x = self.activation(self.fc1(x))\n",
        "        x = self.activation(self.fc2(x))\n",
        "        x = self.fc3(x)\n",
        "        return x\n",
        "\n",
        "# Compute the loss function\n",
        "def compute_loss(model, x):\n",
        "    x.requires_grad = True  # Enable automatic differentiation\n",
        "    y_pred = model(x)  # Neural network output\n",
        "    dy_dx = torch.autograd.grad(y_pred, x, torch.ones_like(y_pred), create_graph=True)[0]\n",
        "    equation_loss = torch.mean((dy_dx - 2*x) ** 2)  # Enforcing dy/dx = 2x\n",
        "\n",
        "    # Initial condition loss: y(0) = 1\n",
        "    x0 = torch.tensor([[0.0]])  # Initial condition point\n",
        "    y0_pred = model(x0)\n",
        "    initial_loss = (y0_pred - 1) ** 2\n",
        "\n",
        "    total_loss = equation_loss + initial_loss\n",
        "    return total_loss\n",
        "\n",
        "# Training the model\n",
        "model = PINN()\n",
        "optimizer = optim.Adam(model.parameters(), lr=0.01)\n",
        "\n",
        "x_train = torch.linspace(-2, 2, 100).view(-1, 1)  # Training points\n",
        "\n",
        "loss_history = []\n",
        "for epoch in range(1000):\n",
        "    optimizer.zero_grad()\n",
        "    loss = compute_loss(model, x_train)\n",
        "    loss.backward()\n",
        "    optimizer.step()\n",
        "    loss_history.append(loss.item())\n",
        "    if epoch % 100 == 0:\n",
        "        print(f'Epoch {epoch}, Loss: {loss.item():.6f}')\n",
        "\n",
        "# Plot results\n",
        "x_test = torch.linspace(-2, 2, 100).view(-1, 1)\n",
        "y_pred = model(x_test).detach().numpy()\n",
        "y_true = x_test.numpy()**2 + 1  # True solution y = x^2 + 1\n",
        "\n",
        "plt.plot(x_test.numpy(), y_true, label='True Solution', linewidth=2)\n",
        "plt.plot(x_test.numpy(), y_pred, label='PINN Approximation', linestyle='dashed')\n",
        "plt.xlabel('x')\n",
        "plt.ylabel('y')\n",
        "plt.legend()\n",
        "plt.title('Solving dy/dx = 2x using PINNs')\n",
        "plt.show()"
      ]
    }
  ]
}